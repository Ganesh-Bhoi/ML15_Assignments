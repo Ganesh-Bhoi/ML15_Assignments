{
 "cells": [
  {
   "cell_type": "code",
   "execution_count": 14,
   "id": "f25ef8c4",
   "metadata": {
    "scrolled": true
   },
   "outputs": [
    {
     "name": "stdout",
     "output_type": "stream",
     "text": [
      "2002\n",
      "2009\n",
      "2016\n",
      "2023\n",
      "2037\n",
      "2044\n",
      "2051\n",
      "2058\n",
      "2072\n",
      "2079\n",
      "2086\n",
      "2093\n",
      "2107\n",
      "2114\n",
      "2121\n",
      "2128\n",
      "2142\n",
      "2149\n",
      "2156\n",
      "2163\n",
      "2177\n",
      "2184\n",
      "2191\n",
      "2198\n",
      "2212\n",
      "2219\n",
      "2226\n",
      "2233\n",
      "2247\n",
      "2254\n",
      "2261\n",
      "2268\n",
      "2282\n",
      "2289\n",
      "2296\n",
      "2303\n",
      "2317\n",
      "2324\n",
      "2331\n",
      "2338\n",
      "2352\n",
      "2359\n",
      "2366\n",
      "2373\n",
      "2387\n",
      "2394\n",
      "2401\n",
      "2408\n",
      "2422\n",
      "2429\n",
      "2436\n",
      "2443\n",
      "2457\n",
      "2464\n",
      "2471\n",
      "2478\n",
      "2492\n",
      "2499\n",
      "2506\n",
      "2513\n",
      "2527\n",
      "2534\n",
      "2541\n",
      "2548\n",
      "2562\n",
      "2569\n",
      "2576\n",
      "2583\n",
      "2597\n",
      "2604\n",
      "2611\n",
      "2618\n",
      "2632\n",
      "2639\n",
      "2646\n",
      "2653\n",
      "2667\n",
      "2674\n",
      "2681\n",
      "2688\n",
      "2702\n",
      "2709\n",
      "2716\n",
      "2723\n",
      "2737\n",
      "2744\n",
      "2751\n",
      "2758\n",
      "2772\n",
      "2779\n",
      "2786\n",
      "2793\n",
      "2807\n",
      "2814\n",
      "2821\n",
      "2828\n",
      "2842\n",
      "2849\n",
      "2856\n",
      "2863\n",
      "2877\n",
      "2884\n",
      "2891\n",
      "2898\n",
      "2912\n",
      "2919\n",
      "2926\n",
      "2933\n",
      "2947\n",
      "2954\n",
      "2961\n",
      "2968\n",
      "2982\n",
      "2989\n",
      "2996\n",
      "3003\n",
      "3017\n",
      "3024\n",
      "3031\n",
      "3038\n",
      "3052\n",
      "3059\n",
      "3066\n",
      "3073\n",
      "3087\n",
      "3094\n",
      "3101\n",
      "3108\n",
      "3122\n",
      "3129\n",
      "3136\n",
      "3143\n",
      "3157\n",
      "3164\n",
      "3171\n",
      "3178\n",
      "3192\n",
      "3199\n"
     ]
    }
   ],
   "source": [
    "# Q1\n",
    "for i in range(2000,3200):\n",
    "    if i%7==0 and i%5!=0:\n",
    "        print(i)    \n",
    "\n",
    "    "
   ]
  },
  {
   "cell_type": "code",
   "execution_count": 38,
   "id": "a868b4cb",
   "metadata": {
    "scrolled": true
   },
   "outputs": [
    {
     "name": "stdout",
     "output_type": "stream",
     "text": [
      "uppercase letter: 2\n",
      "lowercase letter: 8\n"
     ]
    }
   ],
   "source": [
    "# Q2\n",
    "s=\"HelloWorld\"\n",
    "upper=0\n",
    "lower=0\n",
    "for i in s:\n",
    "      if(i.isupper()):\n",
    "            upper+=1\n",
    "      else:\n",
    "            lower+=1\n",
    "print(\"uppercase letter:\",upper)\n",
    "print(\"lowercase letter:\",lower)"
   ]
  },
  {
   "cell_type": "code",
   "execution_count": null,
   "id": "25ddf42b",
   "metadata": {},
   "outputs": [],
   "source": [
    "# Q6\n",
    "In this time we use random forest algorithm to tackle low bias and high variance problem. \n",
    "random forest algorithm divides a dataset into two subsets with repeated sampling. \n",
    "Then this samples are used to build model. "
   ]
  },
  {
   "cell_type": "code",
   "execution_count": 37,
   "id": "3cedc780",
   "metadata": {
    "scrolled": true
   },
   "outputs": [
    {
     "data": {
      "text/plain": [
       "{1: 2,\n",
       " 2: 4,\n",
       " 3: 6,\n",
       " 4: 8,\n",
       " 5: 10,\n",
       " 6: 12,\n",
       " 7: 14,\n",
       " 8: 16,\n",
       " 9: 18,\n",
       " 10: 20,\n",
       " 11: 22,\n",
       " 12: 24,\n",
       " 13: 26,\n",
       " 14: 28,\n",
       " 15: 30,\n",
       " 16: 32,\n",
       " 17: 34,\n",
       " 18: 36,\n",
       " 19: 38,\n",
       " 20: 40}"
      ]
     },
     "execution_count": 37,
     "metadata": {},
     "output_type": "execute_result"
    }
   ],
   "source": [
    "# Q12\n",
    "li = [1,2,3,4,5,6,7,8,9,10,11,12,13,14,15,16,17,18,19,20]\n",
    "Dict = {i:i*2 for i in li }\n",
    "Dict"
   ]
  },
  {
   "cell_type": "code",
   "execution_count": null,
   "id": "1b844626",
   "metadata": {},
   "outputs": [],
   "source": [
    "# Q9\n",
    "Ridge regression is favorable over Lasso regression because dealing with multicollinearity, \n",
    "which occurs independent variables in a regression model are highly correlated. \n",
    "Ridge regression handles multicollinearity better than Lasso regression \n",
    "Lasso regression performs variable selection by forcing some coefficients to be \n",
    "exactly zero"
   ]
  },
  {
   "cell_type": "code",
   "execution_count": 45,
   "id": "76dc3113",
   "metadata": {
    "scrolled": true
   },
   "outputs": [
    {
     "name": "stdout",
     "output_type": "stream",
     "text": [
      "(1, 2, 3, 4, 5)\n",
      "(6, 7, 8, 9, 10)\n"
     ]
    }
   ],
   "source": [
    "# Q13\n",
    "t = (1,2,3,4,5,6,7,8,9,10)\n",
    "t1 = t[:5]\n",
    "t2 = t[5:]\n",
    "print (t1)\n",
    "print (t2)"
   ]
  },
  {
   "cell_type": "code",
   "execution_count": 61,
   "id": "a0d2119e",
   "metadata": {
    "scrolled": true
   },
   "outputs": [
    {
     "name": "stdout",
     "output_type": "stream",
     "text": [
      "156\n"
     ]
    }
   ],
   "source": [
    "# Q14\n",
    "import random\n",
    "r = [i for i in range(100,200) if i%2==0]\n",
    "print(random.choice(r))"
   ]
  },
  {
   "cell_type": "code",
   "execution_count": null,
   "id": "e05c6f4e",
   "metadata": {},
   "outputs": [],
   "source": [
    "\n",
    "    "
   ]
  }
 ],
 "metadata": {
  "kernelspec": {
   "display_name": "Python 3 (ipykernel)",
   "language": "python",
   "name": "python3"
  },
  "language_info": {
   "codemirror_mode": {
    "name": "ipython",
    "version": 3
   },
   "file_extension": ".py",
   "mimetype": "text/x-python",
   "name": "python",
   "nbconvert_exporter": "python",
   "pygments_lexer": "ipython3",
   "version": "3.11.4"
  }
 },
 "nbformat": 4,
 "nbformat_minor": 5
}
